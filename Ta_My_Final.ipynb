{
  "cells": [
    {
      "cell_type": "code",
      "execution_count": 1,
      "metadata": {
        "id": "wOgJtQrLHBTE",
        "colab": {
          "base_uri": "https://localhost:8080/"
        },
        "outputId": "969873d7-fd37-424a-9890-07f2fe16e12a"
      },
      "outputs": [
        {
          "output_type": "stream",
          "name": "stdout",
          "text": [
            "Mounted at /content/gdrive\n"
          ]
        }
      ],
      "source": [
        "from google.colab import drive\n",
        "drive.mount('/content/gdrive')"
      ]
    },
    {
      "cell_type": "code",
      "execution_count": 2,
      "metadata": {
        "id": "b6YBPnZRJ3oy"
      },
      "outputs": [],
      "source": [
        "import PIL\n",
        "import keras\n",
        "import os\n",
        "import numpy as np\n",
        "import pandas as pd\n",
        "import cv2\n",
        "import random \n",
        "import itertools\n",
        "import tensorflow as tf\n",
        "\n",
        "from keras import utils as np_utils\n",
        "from keras.utils import to_categorical\n",
        "from sklearn.preprocessing import OneHotEncoder\n",
        "from PIL import Image, ImageOps\n",
        "from numpy import expand_dims\n",
        "from tensorflow.keras.utils import load_img, img_to_array\n",
        "from keras.preprocessing.image import ImageDataGenerator\n",
        "from matplotlib import pyplot\n",
        "from google.colab.patches import cv2_imshow\n",
        "from keras.models import Sequential\n",
        "from keras.layers import Dense, Conv2D, MaxPool2D , Flatten\n",
        "from keras.preprocessing.image import ImageDataGenerator\n",
        "from keras.optimizers import Adam\n",
        "from keras.layers import LSTM\n",
        "from keras.callbacks import ModelCheckpoint, EarlyStopping\n",
        "from sklearn.metrics import classification_report, confusion_matrix\n",
        "from google.colab.patches import cv2_imshow\n",
        "from tensorflow.keras.applications import EfficientNetB0\n",
        "from keras.callbacks import ModelCheckpoint, EarlyStopping\n",
        "from sklearn.metrics import classification_report, confusion_matrix\n",
        "\n"
      ]
    },
    {
      "cell_type": "code",
      "execution_count": 3,
      "metadata": {
        "id": "Jk4L7nZSgTDR"
      },
      "outputs": [],
      "source": [
        "bird_class = pd.read_excel('/content/gdrive/MyDrive/DSCI552_Final/Data/Classes.xlsx')\n",
        "y = OneHotEncoder().fit_transform(bird_class).toarray()"
      ]
    },
    {
      "cell_type": "code",
      "execution_count": 4,
      "metadata": {
        "id": "N1IlQcvWKFff"
      },
      "outputs": [],
      "source": [
        "subdir = []\n",
        "path = os.getcwd()\n",
        "path = os.path.join(path,'/content/gdrive/MyDrive/DSCI552_Final/Data/images')\n",
        "\n",
        "for folder in os.listdir(path):\n",
        "  fullpath = os.path.join(path, folder)\n",
        "  if folder.endswith('.DS_Store'): \n",
        "      pass\n",
        "  else:\n",
        "    subdir.append(fullpath)   "
      ]
    },
    {
      "cell_type": "markdown",
      "source": [
        "Data Exploration and Pre-processing"
      ],
      "metadata": {
        "id": "IKsRo5QmD-rc"
      }
    },
    {
      "cell_type": "code",
      "execution_count": 6,
      "metadata": {
        "id": "13T2jg0-9fVC"
      },
      "outputs": [],
      "source": [
        "#Split data: 70% train, 15% test, 15% validate\n",
        "train_path = []\n",
        "val_path = []\n",
        "test_path = []\n",
        "desired_size = 224\n",
        "\n",
        "for each_folder in subdir:\n",
        "  data_path_list = []\n",
        "  for file in os.listdir(each_folder):\n",
        "    path = os.path.join(each_folder, file)\n",
        "    newPath = path.replace(os.sep, '/')\n",
        "    data_path_list.append(newPath)\n",
        "\n",
        "    image = cv2.imread(newPath)\n",
        "    # image = cv2.normalize(image, None, 0, 1.0, cv2.NORM_MINMAX, dtype=cv2.CV_32F)\n",
        "\n",
        "    image = cv2.resize(image, (224,224)) \n",
        "    cv2.imwrite(newPath,image)\n",
        "    \n",
        "  data = pd.DataFrame(data_path_list)\n",
        "  train, validate, test = np.split(data.sample(frac=1, random_state=25), [int(.7*len(data)), int(.85*len(data))])\n",
        "  train_path.append(train[0].values.tolist())\n",
        "  val_path.append(validate[0].values.tolist())\n",
        "  test_path.append(validate[0].values.tolist())\n",
        "\n",
        "train_path = list(itertools.chain(*train_path))\n",
        "val_path = list(itertools.chain(*val_path))\n",
        "test_path = list(itertools.chain(*test_path))"
      ]
    },
    {
      "cell_type": "code",
      "execution_count": 7,
      "metadata": {
        "id": "jHoVuhLZ_4sK",
        "colab": {
          "base_uri": "https://localhost:8080/"
        },
        "outputId": "7347ed04-4941-47fb-e216-98af3db1e52f"
      },
      "outputs": [
        {
          "output_type": "execute_result",
          "data": {
            "text/plain": [
              "(224, 224, 3)"
            ]
          },
          "metadata": {},
          "execution_count": 7
        }
      ],
      "source": [
        "train_path[0]\n",
        "image = cv2.imread(train_path[0])\n",
        "image.shape"
      ]
    },
    {
      "cell_type": "code",
      "execution_count": 8,
      "metadata": {
        "id": "CsPwWehedFG_"
      },
      "outputs": [],
      "source": [
        "bird_class = pd.read_excel('/content/gdrive/MyDrive/DSCI552_Final/Data/Classes.xlsx')\n",
        "bird_class = bird_class.rename(columns = {\"Folder Name \": \"Folder\"})\n",
        "bird_class = bird_class.drop(columns = \"Class\")\n",
        "y = OneHotEncoder().fit_transform(bird_class).toarray()"
      ]
    },
    {
      "cell_type": "code",
      "execution_count": 9,
      "metadata": {
        "id": "zISzfpcw98ma"
      },
      "outputs": [],
      "source": [
        "final_train_list = []\n",
        "final_test_list = []\n",
        "final_val_list = []\n",
        "def resize_onehot(path):\n",
        "  final_list = []\n",
        "  for each_image_path in path:\n",
        "    for index, row in bird_class.iterrows():\n",
        "      if row[\"Folder\"] in each_image_path:\n",
        "        im = cv2.imread(each_image_path)\n",
        "        final_list.append([im, y[index]])\n",
        "  return final_list\n",
        "\n",
        "final_train_list = resize_onehot(train_path)\n",
        "final_test_list = resize_onehot(test_path)\n",
        "final_val_list = resize_onehot(val_path)"
      ]
    },
    {
      "cell_type": "code",
      "execution_count": 10,
      "metadata": {
        "id": "-clcZPamkGJU",
        "colab": {
          "base_uri": "https://localhost:8080/"
        },
        "outputId": "368122f9-9aa8-4ccc-a607-b3fec2649f26"
      },
      "outputs": [
        {
          "output_type": "execute_result",
          "data": {
            "text/plain": [
              "820"
            ]
          },
          "metadata": {},
          "execution_count": 10
        }
      ],
      "source": [
        "len(final_train_list)"
      ]
    },
    {
      "cell_type": "code",
      "execution_count": 34,
      "metadata": {
        "id": "hQXvCy7lfzLg"
      },
      "outputs": [],
      "source": [
        "x_train = []\n",
        "y_train = []\n",
        "x_val = []\n",
        "y_val = []\n",
        "x_test = []\n",
        "y_test = []\n",
        "\n",
        "for each in final_train_list:\n",
        "  x_train.append(each[0])\n",
        "  y_train.append(each[1])\n",
        "for each in final_test_list:\n",
        "  x_test.append(each[0])\n",
        "  y_test.append(each[1])\n",
        "for each in final_val_list:\n",
        "  x_val.append(each[0])\n",
        "  y_val.append(each[1])\n"
      ]
    },
    {
      "cell_type": "code",
      "execution_count": 12,
      "metadata": {
        "id": "yBtEGt4ZscO5",
        "colab": {
          "base_uri": "https://localhost:8080/"
        },
        "outputId": "d1f46aad-f2b3-4b61-9550-32ca5faae6a4"
      },
      "outputs": [
        {
          "output_type": "execute_result",
          "data": {
            "text/plain": [
              "820"
            ]
          },
          "metadata": {},
          "execution_count": 12
        }
      ],
      "source": [
        "len(x_train)"
      ]
    },
    {
      "cell_type": "code",
      "execution_count": 13,
      "metadata": {
        "id": "R3DCUOH0MdAh"
      },
      "outputs": [],
      "source": [
        "#Rotation\n",
        "def rotation(each_path):\n",
        "  image = cv2.imread(each_path)\n",
        "  height, width = image.shape[:2]\n",
        "  center = (width/2, height/2)\n",
        "\n",
        "  rotate_matrix = cv2.getRotationMatrix2D(center=center, angle=45, scale=1)\n",
        "  rotated_image = cv2.warpAffine(src=image, M=rotate_matrix, dsize=(width, height))\n",
        "\n",
        "  for index, row in bird_class.iterrows():\n",
        "    if row[\"Folder\"] in each_path:\n",
        "      x_train.append(rotated_image)\n",
        "      y_train.append(y[index])\n",
        "      final_train_list.append([rotated_image, y[index]])"
      ]
    },
    {
      "cell_type": "code",
      "execution_count": 14,
      "metadata": {
        "id": "gJ-zkGRIMs7c"
      },
      "outputs": [],
      "source": [
        "#Translate\n",
        "def translate(each_path):\n",
        "  image = cv2.imread(each_path)\n",
        "  height, width = image.shape[:2]\n",
        "  tx, ty = width / 4, height / 4\n",
        "  translation_matrix = np.array([\n",
        "      [1, 0, tx],\n",
        "      [0, 1, ty]\n",
        "  ], dtype=np.float32)\n",
        "  translated_image = cv2.warpAffine(src=image, M=translation_matrix, dsize=(width, height))\n",
        "\n",
        "  for index, row in bird_class.iterrows():\n",
        "    if row[\"Folder\"] in each_path:\n",
        "      x_train.append(translated_image)\n",
        "      y_train.append(y[index])\n",
        "      final_train_list.append([translated_image, y[index]])\n"
      ]
    },
    {
      "cell_type": "code",
      "execution_count": 15,
      "metadata": {
        "id": "8r3dUdEZO6tW"
      },
      "outputs": [],
      "source": [
        "#Crop\n",
        "desired_size = 224\n",
        "def crop(each_path):\n",
        "  img = cv2.imread(each_path)\n",
        "  cropped_image = img[50:174, 50:174]\n",
        "  cropped_image = cv2.resize(cropped_image, (224,224)) \n",
        "\n",
        "  for index, row in bird_class.iterrows():\n",
        "    if row[\"Folder\"] in each_path:\n",
        "      x_train.append(cropped_image)\n",
        "      y_train.append(y[index])\n",
        "      final_train_list.append([cropped_image, y[index]])"
      ]
    },
    {
      "cell_type": "code",
      "execution_count": 16,
      "metadata": {
        "id": "rnR2kuSJRl0E"
      },
      "outputs": [],
      "source": [
        "#Randomly zoom\n",
        "def zoom(each_path):\n",
        "  image = load_img(each_path)\n",
        "  dataImage = img_to_array(image)\n",
        "  imageNew = expand_dims(dataImage, 0)\n",
        "\n",
        "  imageDataGen = ImageDataGenerator(zoom_range=[0.7,1.0])\n",
        "  iterator = imageDataGen.flow(imageNew, batch_size=1)\n",
        "  batch = iterator.next()\n",
        "  image = batch[0].astype('uint8')\n",
        "\n",
        "  for index, row in bird_class.iterrows():\n",
        "    if row[\"Folder\"] in each_path:\n",
        "      x_train.append(image)\n",
        "      y_train.append(y[index])\n",
        "      final_train_list.append([image, y[index]])"
      ]
    },
    {
      "cell_type": "code",
      "execution_count": 17,
      "metadata": {
        "id": "XzTvu4-8V-un"
      },
      "outputs": [],
      "source": [
        "#flip\n",
        "def flip(each_path):\n",
        "  img = cv2.imread(each_path)\n",
        "  vertical_img = cv2.flip(img, 0)\n",
        "  for index, row in bird_class.iterrows():\n",
        "    if row[\"Folder\"] in each_path:\n",
        "      x_train.append(vertical_img)\n",
        "      y_train.append(y[index])\n",
        "      final_train_list.append([vertical_img, y[index]])"
      ]
    },
    {
      "cell_type": "code",
      "execution_count": 18,
      "metadata": {
        "id": "yztrztJ-Wzud"
      },
      "outputs": [],
      "source": [
        "#Contrast\n",
        "def contrast(each_path):\n",
        "  img = cv2.imread(each_path)\n",
        "  lab = cv2.cvtColor(img,cv2.COLOR_BGR2LAB)\n",
        "  l_channel, a, b = cv2.split(lab)\n",
        "\n",
        "  clahe = cv2.createCLAHE(clipLimit=2.0, tileGridSize=(8,8))\n",
        "  cl = clahe.apply(l_channel)\n",
        "\n",
        "  limg = cv2.merge((cl,a,b))\n",
        "  enhanced_img = cv2.cvtColor(limg, cv2.COLOR_LAB2BGR) \n",
        "\n",
        "  for index, row in bird_class.iterrows():\n",
        "    if row[\"Folder\"] in each_path:\n",
        "      x_train.append(enhanced_img)\n",
        "      y_train.append(y[index])\n",
        "      final_train_list.append([enhanced_img, y[index]])"
      ]
    },
    {
      "cell_type": "code",
      "execution_count": 19,
      "metadata": {
        "id": "oxkoo4Q_nb8o"
      },
      "outputs": [],
      "source": [
        "for each_path in train_path:\n",
        "  k_num = random.randint(1,6)\n",
        "  aug = (rotation, translate, crop, zoom, flip, contrast)\n",
        "  aug_list = random.choices(aug, k=6)\n",
        "  for each_aug in aug_list:\n",
        "    each_aug(each_path)"
      ]
    },
    {
      "cell_type": "code",
      "execution_count": 20,
      "metadata": {
        "id": "ToHOAWYfU-1s",
        "colab": {
          "base_uri": "https://localhost:8080/"
        },
        "outputId": "fa141987-8eff-4913-bafa-2669471672e4"
      },
      "outputs": [
        {
          "output_type": "stream",
          "name": "stdout",
          "text": [
            "Mounted at /content/gdrive\n"
          ]
        }
      ],
      "source": [
        "import pandas as pd\n",
        "from google.colab import drive\n",
        "\n",
        "drive.mount('/content/gdrive', force_remount=True)"
      ]
    },
    {
      "cell_type": "code",
      "execution_count": 21,
      "metadata": {
        "id": "t4Cz5JnzlosT",
        "colab": {
          "base_uri": "https://localhost:8080/"
        },
        "outputId": "e8eb1c26-e1a3-481e-ed79-b796d603f315"
      },
      "outputs": [
        {
          "output_type": "execute_result",
          "data": {
            "text/plain": [
              "5740"
            ]
          },
          "metadata": {},
          "execution_count": 21
        }
      ],
      "source": [
        "len(x_train)"
      ]
    },
    {
      "cell_type": "markdown",
      "metadata": {
        "id": "7ZBkOIEdB0XC"
      },
      "source": [
        "Use ReLU activation functions in the last layer and a softmax layer, along\n",
        "with batch normalization\n",
        "4\n",
        "and a dropout rate of 20% as well as ADAM optimizer. Use multinomial cross entropy loss. You can try any batch size,\n",
        "but a batch size of 5 seems reasonable"
      ]
    },
    {
      "cell_type": "code",
      "execution_count": 22,
      "metadata": {
        "id": "Lj6ZSKAFq5nM",
        "colab": {
          "base_uri": "https://localhost:8080/"
        },
        "outputId": "a64699ba-d2cc-40c4-d82e-2be370a19486"
      },
      "outputs": [
        {
          "output_type": "stream",
          "name": "stdout",
          "text": [
            "Downloading data from https://storage.googleapis.com/tensorflow/keras-applications/vgg16/vgg16_weights_tf_dim_ordering_tf_kernels_notop.h5\n",
            "58889256/58889256 [==============================] - 0s 0us/step\n"
          ]
        }
      ],
      "source": [
        "base_model = keras.applications.vgg16.VGG16(include_top=False, weights='imagenet',pooling='avg',classes=20)"
      ]
    },
    {
      "cell_type": "code",
      "execution_count": 23,
      "metadata": {
        "id": "To7xk0glm1LN"
      },
      "outputs": [],
      "source": [
        "model = keras.Sequential()\n",
        "model.add(base_model)\n",
        "for layer in model.layers[:]:\n",
        "    layer.trainable = False\n",
        "\n",
        "# model.add(keras.layers.Dense(20, activation=('relu')))\n",
        "model.add(keras.layers.Flatten())\n",
        "model.add(keras.layers.BatchNormalization())\n",
        "\n",
        "# model.add(keras.layers.Dense(20, activation=('relu')))\n",
        "model.add(keras.layers.Dropout(0.2))\n",
        "model.add(keras.layers.Dense(20, activation=('relu')))\n",
        "model.add(keras.layers.Dense(20, activation=('softmax')))\n",
        "\n",
        "opt = Adam(learning_rate=0.0001)\n",
        "model.compile(optimizer=opt, loss=keras.losses.categorical_crossentropy, metrics=['accuracy'])\n",
        "model.build(input_shape=(224,224,3))"
      ]
    },
    {
      "cell_type": "code",
      "execution_count": 24,
      "metadata": {
        "colab": {
          "base_uri": "https://localhost:8080/"
        },
        "id": "u2bdCiovwsj8",
        "outputId": "787b0595-61b4-4c62-9188-031d4de77f92"
      },
      "outputs": [
        {
          "output_type": "stream",
          "name": "stdout",
          "text": [
            "Model: \"sequential\"\n",
            "_________________________________________________________________\n",
            " Layer (type)                Output Shape              Param #   \n",
            "=================================================================\n",
            " vgg16 (Functional)          (None, 512)               14714688  \n",
            "                                                                 \n",
            " flatten (Flatten)           (None, 512)               0         \n",
            "                                                                 \n",
            " batch_normalization (BatchN  (None, 512)              2048      \n",
            " ormalization)                                                   \n",
            "                                                                 \n",
            " dropout (Dropout)           (None, 512)               0         \n",
            "                                                                 \n",
            " dense (Dense)               (None, 20)                10260     \n",
            "                                                                 \n",
            " dense_1 (Dense)             (None, 20)                420       \n",
            "                                                                 \n",
            "=================================================================\n",
            "Total params: 14,727,416\n",
            "Trainable params: 11,704\n",
            "Non-trainable params: 14,715,712\n",
            "_________________________________________________________________\n"
          ]
        }
      ],
      "source": [
        "model.summary()"
      ]
    },
    {
      "cell_type": "code",
      "execution_count": 25,
      "metadata": {
        "colab": {
          "base_uri": "https://localhost:8080/"
        },
        "id": "KZ3JJcHUoxok",
        "outputId": "626c0658-0740-4416-bdc1-1e3af8ba7a97"
      },
      "outputs": [
        {
          "output_type": "stream",
          "name": "stderr",
          "text": [
            "WARNING:tensorflow:`period` argument is deprecated. Please use `save_freq` to specify the frequency in number of batches seen.\n"
          ]
        }
      ],
      "source": [
        "x_train = tf.stack(x_train)\n",
        "y_train = tf.stack(y_train)\n",
        "x_val = tf.stack(x_val)\n",
        "y_val = tf.stack(y_val)\n",
        "x_train1 = tf.keras.applications.vgg16.preprocess_input(x_train)\n",
        "\n",
        "initial_learning_rate = 0.01\n",
        "epochs = 100\n",
        "decay = initial_learning_rate / epochs\n",
        "def lr_time_based_decay(epoch, lr):\n",
        "    return lr * 1 / (1 + decay * epoch)\n",
        "\n",
        "checkpoint = ModelCheckpoint(\"vgg16_1.h5\", monitor='val_accuracy', verbose=1, \n",
        "                             save_best_only=True, save_weights_only=False, mode='auto', period=1)\n",
        "early = EarlyStopping(monitor='val_loss', min_delta=0, patience=20, verbose=1, mode='auto')"
      ]
    },
    {
      "cell_type": "code",
      "execution_count": 26,
      "metadata": {
        "id": "K7GfMj53jQYk",
        "colab": {
          "base_uri": "https://localhost:8080/"
        },
        "outputId": "a7ac6025-2441-4c05-afc7-fb2e0382194e"
      },
      "outputs": [
        {
          "output_type": "stream",
          "name": "stdout",
          "text": [
            "\n",
            "Epoch 1: LearningRateScheduler setting learning rate to 9.999999747378752e-05.\n",
            "Epoch 1/50\n",
            "230/230 [==============================] - ETA: 0s - loss: 3.2008 - accuracy: 0.0660\n",
            "Epoch 1: val_accuracy improved from -inf to 0.08427, saving model to vgg16_1.h5\n",
            "230/230 [==============================] - 43s 142ms/step - loss: 3.2008 - accuracy: 0.0660 - val_loss: 3.1610 - val_accuracy: 0.0843 - lr: 1.0000e-04\n",
            "\n",
            "Epoch 2: LearningRateScheduler setting learning rate to 9.998999847394012e-05.\n",
            "Epoch 2/50\n",
            "230/230 [==============================] - ETA: 0s - loss: 2.8222 - accuracy: 0.1425\n",
            "Epoch 2: val_accuracy improved from 0.08427 to 0.19101, saving model to vgg16_1.h5\n",
            "230/230 [==============================] - 31s 134ms/step - loss: 2.8222 - accuracy: 0.1425 - val_loss: 2.7314 - val_accuracy: 0.1910 - lr: 9.9990e-05\n",
            "\n",
            "Epoch 3: LearningRateScheduler setting learning rate to 9.997000630676428e-05.\n",
            "Epoch 3/50\n",
            "230/230 [==============================] - ETA: 0s - loss: 2.5498 - accuracy: 0.2247\n",
            "Epoch 3: val_accuracy improved from 0.19101 to 0.24719, saving model to vgg16_1.h5\n",
            "230/230 [==============================] - 32s 138ms/step - loss: 2.5498 - accuracy: 0.2247 - val_loss: 2.4381 - val_accuracy: 0.2472 - lr: 9.9970e-05\n",
            "\n",
            "Epoch 4: LearningRateScheduler setting learning rate to 9.994002396931107e-05.\n",
            "Epoch 4/50\n",
            "230/230 [==============================] - ETA: 0s - loss: 2.3212 - accuracy: 0.2960\n",
            "Epoch 4: val_accuracy improved from 0.24719 to 0.30899, saving model to vgg16_1.h5\n",
            "230/230 [==============================] - 32s 139ms/step - loss: 2.3212 - accuracy: 0.2960 - val_loss: 2.2056 - val_accuracy: 0.3090 - lr: 9.9940e-05\n",
            "\n",
            "Epoch 5: LearningRateScheduler setting learning rate to 9.990006173048161e-05.\n",
            "Epoch 5/50\n",
            "230/230 [==============================] - ETA: 0s - loss: 2.1142 - accuracy: 0.3791\n",
            "Epoch 5: val_accuracy improved from 0.30899 to 0.37079, saving model to vgg16_1.h5\n",
            "230/230 [==============================] - 32s 137ms/step - loss: 2.1142 - accuracy: 0.3791 - val_loss: 2.0193 - val_accuracy: 0.3708 - lr: 9.9900e-05\n",
            "\n",
            "Epoch 6: LearningRateScheduler setting learning rate to 9.985013712739302e-05.\n",
            "Epoch 6/50\n",
            "230/230 [==============================] - ETA: 0s - loss: 1.9389 - accuracy: 0.4338\n",
            "Epoch 6: val_accuracy improved from 0.37079 to 0.42697, saving model to vgg16_1.h5\n",
            "230/230 [==============================] - 32s 139ms/step - loss: 1.9389 - accuracy: 0.4338 - val_loss: 1.8645 - val_accuracy: 0.4270 - lr: 9.9850e-05\n",
            "\n",
            "Epoch 7: LearningRateScheduler setting learning rate to 9.979026041855706e-05.\n",
            "Epoch 7/50\n",
            "230/230 [==============================] - ETA: 0s - loss: 1.7832 - accuracy: 0.4934\n",
            "Epoch 7: val_accuracy improved from 0.42697 to 0.45506, saving model to vgg16_1.h5\n",
            "230/230 [==============================] - 32s 138ms/step - loss: 1.7832 - accuracy: 0.4934 - val_loss: 1.7521 - val_accuracy: 0.4551 - lr: 9.9790e-05\n",
            "\n",
            "Epoch 8: LearningRateScheduler setting learning rate to 9.972045640012098e-05.\n",
            "Epoch 8/50\n",
            "230/230 [==============================] - ETA: 0s - loss: 1.6196 - accuracy: 0.5458\n",
            "Epoch 8: val_accuracy improved from 0.45506 to 0.49438, saving model to vgg16_1.h5\n",
            "230/230 [==============================] - 32s 138ms/step - loss: 1.6196 - accuracy: 0.5458 - val_loss: 1.6614 - val_accuracy: 0.4944 - lr: 9.9720e-05\n",
            "\n",
            "Epoch 9: LearningRateScheduler setting learning rate to 9.964074258818005e-05.\n",
            "Epoch 9/50\n",
            "230/230 [==============================] - ETA: 0s - loss: 1.5014 - accuracy: 0.5704\n",
            "Epoch 9: val_accuracy improved from 0.49438 to 0.51124, saving model to vgg16_1.h5\n",
            "230/230 [==============================] - 32s 139ms/step - loss: 1.5014 - accuracy: 0.5704 - val_loss: 1.5823 - val_accuracy: 0.5112 - lr: 9.9641e-05\n",
            "\n",
            "Epoch 10: LearningRateScheduler setting learning rate to 9.955114376124448e-05.\n",
            "Epoch 10/50\n",
            "230/230 [==============================] - ETA: 0s - loss: 1.3965 - accuracy: 0.5997\n",
            "Epoch 10: val_accuracy improved from 0.51124 to 0.55056, saving model to vgg16_1.h5\n",
            "230/230 [==============================] - 32s 138ms/step - loss: 1.3965 - accuracy: 0.5997 - val_loss: 1.5238 - val_accuracy: 0.5506 - lr: 9.9551e-05\n",
            "\n",
            "Epoch 11: LearningRateScheduler setting learning rate to 9.945169195661194e-05.\n",
            "Epoch 11/50\n",
            "230/230 [==============================] - ETA: 0s - loss: 1.2966 - accuracy: 0.6287\n",
            "Epoch 11: val_accuracy improved from 0.55056 to 0.57303, saving model to vgg16_1.h5\n",
            "230/230 [==============================] - 32s 138ms/step - loss: 1.2966 - accuracy: 0.6287 - val_loss: 1.4666 - val_accuracy: 0.5730 - lr: 9.9452e-05\n",
            "\n",
            "Epoch 12: LearningRateScheduler setting learning rate to 9.934241193081636e-05.\n",
            "Epoch 12/50\n",
            "230/230 [==============================] - ETA: 0s - loss: 1.2064 - accuracy: 0.6554\n",
            "Epoch 12: val_accuracy improved from 0.57303 to 0.58427, saving model to vgg16_1.h5\n",
            "230/230 [==============================] - 32s 139ms/step - loss: 1.2064 - accuracy: 0.6554 - val_loss: 1.4315 - val_accuracy: 0.5843 - lr: 9.9342e-05\n",
            "\n",
            "Epoch 13: LearningRateScheduler setting learning rate to 9.922334296497487e-05.\n",
            "Epoch 13/50\n",
            "230/230 [==============================] - ETA: 0s - loss: 1.1385 - accuracy: 0.6751\n",
            "Epoch 13: val_accuracy improved from 0.58427 to 0.60112, saving model to vgg16_1.h5\n",
            "230/230 [==============================] - 32s 138ms/step - loss: 1.1385 - accuracy: 0.6751 - val_loss: 1.4047 - val_accuracy: 0.6011 - lr: 9.9223e-05\n",
            "\n",
            "Epoch 14: LearningRateScheduler setting learning rate to 9.909451705800132e-05.\n",
            "Epoch 14/50\n",
            "230/230 [==============================] - ETA: 0s - loss: 1.0841 - accuracy: 0.6864\n",
            "Epoch 14: val_accuracy improved from 0.60112 to 0.60674, saving model to vgg16_1.h5\n",
            "230/230 [==============================] - 32s 139ms/step - loss: 1.0841 - accuracy: 0.6864 - val_loss: 1.3731 - val_accuracy: 0.6067 - lr: 9.9095e-05\n",
            "\n",
            "Epoch 15: LearningRateScheduler setting learning rate to 9.895598072759898e-05.\n",
            "Epoch 15/50\n",
            "230/230 [==============================] - ETA: 0s - loss: 1.0136 - accuracy: 0.7071\n",
            "Epoch 15: val_accuracy did not improve from 0.60674\n",
            "230/230 [==============================] - 32s 138ms/step - loss: 1.0136 - accuracy: 0.7071 - val_loss: 1.3633 - val_accuracy: 0.6067 - lr: 9.8956e-05\n",
            "\n",
            "Epoch 16: LearningRateScheduler setting learning rate to 9.880776594277179e-05.\n",
            "Epoch 16/50\n",
            "230/230 [==============================] - ETA: 0s - loss: 0.9611 - accuracy: 0.7220\n",
            "Epoch 16: val_accuracy improved from 0.60674 to 0.61798, saving model to vgg16_1.h5\n",
            "230/230 [==============================] - 32s 138ms/step - loss: 0.9611 - accuracy: 0.7220 - val_loss: 1.3484 - val_accuracy: 0.6180 - lr: 9.8808e-05\n",
            "\n",
            "Epoch 17: LearningRateScheduler setting learning rate to 9.864992645276061e-05.\n",
            "Epoch 17/50\n",
            "230/230 [==============================] - ETA: 0s - loss: 0.9157 - accuracy: 0.7289\n",
            "Epoch 17: val_accuracy did not improve from 0.61798\n",
            "230/230 [==============================] - 32s 138ms/step - loss: 0.9157 - accuracy: 0.7289 - val_loss: 1.3401 - val_accuracy: 0.6124 - lr: 9.8650e-05\n",
            "\n",
            "Epoch 18: LearningRateScheduler setting learning rate to 9.84825087217336e-05.\n",
            "Epoch 18/50\n",
            "230/230 [==============================] - ETA: 0s - loss: 0.8776 - accuracy: 0.7462\n",
            "Epoch 18: val_accuracy did not improve from 0.61798\n",
            "230/230 [==============================] - 32s 138ms/step - loss: 0.8776 - accuracy: 0.7462 - val_loss: 1.3321 - val_accuracy: 0.6180 - lr: 9.8483e-05\n",
            "\n",
            "Epoch 19: LearningRateScheduler setting learning rate to 9.830555919530664e-05.\n",
            "Epoch 19/50\n",
            "230/230 [==============================] - ETA: 0s - loss: 0.8371 - accuracy: 0.7573\n",
            "Epoch 19: val_accuracy did not improve from 0.61798\n",
            "230/230 [==============================] - 32s 138ms/step - loss: 0.8371 - accuracy: 0.7573 - val_loss: 1.3373 - val_accuracy: 0.6067 - lr: 9.8306e-05\n",
            "\n",
            "Epoch 20: LearningRateScheduler setting learning rate to 9.81191315627121e-05.\n",
            "Epoch 20/50\n",
            "230/230 [==============================] - ETA: 0s - loss: 0.7909 - accuracy: 0.7666\n",
            "Epoch 20: val_accuracy did not improve from 0.61798\n",
            "230/230 [==============================] - 32s 138ms/step - loss: 0.7909 - accuracy: 0.7666 - val_loss: 1.3387 - val_accuracy: 0.6067 - lr: 9.8119e-05\n",
            "\n",
            "Epoch 21: LearningRateScheduler setting learning rate to 9.792328675318427e-05.\n",
            "Epoch 21/50\n",
            "230/230 [==============================] - ETA: 0s - loss: 0.7658 - accuracy: 0.7700\n",
            "Epoch 21: val_accuracy did not improve from 0.61798\n",
            "230/230 [==============================] - 32s 138ms/step - loss: 0.7658 - accuracy: 0.7700 - val_loss: 1.3394 - val_accuracy: 0.6067 - lr: 9.7923e-05\n",
            "\n",
            "Epoch 22: LearningRateScheduler setting learning rate to 9.771807841092672e-05.\n",
            "Epoch 22/50\n",
            "230/230 [==============================] - ETA: 0s - loss: 0.7246 - accuracy: 0.7869\n",
            "Epoch 22: val_accuracy did not improve from 0.61798\n",
            "230/230 [==============================] - 32s 138ms/step - loss: 0.7246 - accuracy: 0.7869 - val_loss: 1.3215 - val_accuracy: 0.6180 - lr: 9.7718e-05\n",
            "\n",
            "Epoch 23: LearningRateScheduler setting learning rate to 9.750356741871807e-05.\n",
            "Epoch 23/50\n",
            "230/230 [==============================] - ETA: 0s - loss: 0.7115 - accuracy: 0.7841\n",
            "Epoch 23: val_accuracy did not improve from 0.61798\n",
            "230/230 [==============================] - 32s 137ms/step - loss: 0.7115 - accuracy: 0.7841 - val_loss: 1.3262 - val_accuracy: 0.6180 - lr: 9.7504e-05\n",
            "\n",
            "Epoch 24: LearningRateScheduler setting learning rate to 9.727982189430099e-05.\n",
            "Epoch 24/50\n",
            "230/230 [==============================] - ETA: 0s - loss: 0.6799 - accuracy: 0.7983\n",
            "Epoch 24: val_accuracy did not improve from 0.61798\n",
            "230/230 [==============================] - 32s 138ms/step - loss: 0.6799 - accuracy: 0.7983 - val_loss: 1.3289 - val_accuracy: 0.6180 - lr: 9.7280e-05\n",
            "\n",
            "Epoch 25: LearningRateScheduler setting learning rate to 9.704690992823636e-05.\n",
            "Epoch 25/50\n",
            "230/230 [==============================] - ETA: 0s - loss: 0.6707 - accuracy: 0.8000\n",
            "Epoch 25: val_accuracy improved from 0.61798 to 0.62921, saving model to vgg16_1.h5\n",
            "230/230 [==============================] - 32s 138ms/step - loss: 0.6707 - accuracy: 0.8000 - val_loss: 1.3163 - val_accuracy: 0.6292 - lr: 9.7047e-05\n",
            "\n",
            "Epoch 26: LearningRateScheduler setting learning rate to 9.680489958391672e-05.\n",
            "Epoch 26/50\n",
            "230/230 [==============================] - ETA: 0s - loss: 0.6372 - accuracy: 0.8118\n",
            "Epoch 26: val_accuracy improved from 0.62921 to 0.63483, saving model to vgg16_1.h5\n",
            "230/230 [==============================] - 32s 139ms/step - loss: 0.6372 - accuracy: 0.8118 - val_loss: 1.3216 - val_accuracy: 0.6348 - lr: 9.6805e-05\n",
            "\n",
            "Epoch 27: LearningRateScheduler setting learning rate to 9.655385889757983e-05.\n",
            "Epoch 27/50\n",
            "230/230 [==============================] - ETA: 0s - loss: 0.6085 - accuracy: 0.8251\n",
            "Epoch 27: val_accuracy did not improve from 0.63483\n",
            "230/230 [==============================] - 32s 138ms/step - loss: 0.6085 - accuracy: 0.8251 - val_loss: 1.3311 - val_accuracy: 0.6236 - lr: 9.6554e-05\n",
            "\n",
            "Epoch 28: LearningRateScheduler setting learning rate to 9.629386313468771e-05.\n",
            "Epoch 28/50\n",
            "230/230 [==============================] - ETA: 0s - loss: 0.6106 - accuracy: 0.8159\n",
            "Epoch 28: val_accuracy did not improve from 0.63483\n",
            "230/230 [==============================] - 32s 138ms/step - loss: 0.6106 - accuracy: 0.8159 - val_loss: 1.3254 - val_accuracy: 0.6236 - lr: 9.6294e-05\n",
            "\n",
            "Epoch 29: LearningRateScheduler setting learning rate to 9.602499478632206e-05.\n",
            "Epoch 29/50\n",
            "230/230 [==============================] - ETA: 0s - loss: 0.5780 - accuracy: 0.8254\n",
            "Epoch 29: val_accuracy did not improve from 0.63483\n",
            "230/230 [==============================] - 32s 137ms/step - loss: 0.5780 - accuracy: 0.8254 - val_loss: 1.3457 - val_accuracy: 0.6292 - lr: 9.6025e-05\n",
            "\n",
            "Epoch 30: LearningRateScheduler setting learning rate to 9.574732905574518e-05.\n",
            "Epoch 30/50\n",
            "230/230 [==============================] - ETA: 0s - loss: 0.5663 - accuracy: 0.8336\n",
            "Epoch 30: val_accuracy did not improve from 0.63483\n",
            "230/230 [==============================] - 32s 138ms/step - loss: 0.5663 - accuracy: 0.8336 - val_loss: 1.3433 - val_accuracy: 0.6236 - lr: 9.5747e-05\n",
            "\n",
            "Epoch 31: LearningRateScheduler setting learning rate to 9.54609483704231e-05.\n",
            "Epoch 31/50\n",
            "230/230 [==============================] - ETA: 0s - loss: 0.5609 - accuracy: 0.8345\n",
            "Epoch 31: val_accuracy did not improve from 0.63483\n",
            "230/230 [==============================] - 32s 138ms/step - loss: 0.5609 - accuracy: 0.8345 - val_loss: 1.3282 - val_accuracy: 0.6236 - lr: 9.5461e-05\n",
            "\n",
            "Epoch 32: LearningRateScheduler setting learning rate to 9.516593512495273e-05.\n",
            "Epoch 32/50\n",
            "230/230 [==============================] - ETA: 0s - loss: 0.5376 - accuracy: 0.8383\n",
            "Epoch 32: val_accuracy did not improve from 0.63483\n",
            "230/230 [==============================] - 32s 138ms/step - loss: 0.5376 - accuracy: 0.8383 - val_loss: 1.3391 - val_accuracy: 0.6292 - lr: 9.5166e-05\n",
            "\n",
            "Epoch 33: LearningRateScheduler setting learning rate to 9.486237893382716e-05.\n",
            "Epoch 33/50\n",
            "230/230 [==============================] - ETA: 0s - loss: 0.5252 - accuracy: 0.8378\n",
            "Epoch 33: val_accuracy did not improve from 0.63483\n",
            "230/230 [==============================] - 32s 138ms/step - loss: 0.5252 - accuracy: 0.8378 - val_loss: 1.3677 - val_accuracy: 0.6348 - lr: 9.4862e-05\n",
            "\n",
            "Epoch 34: LearningRateScheduler setting learning rate to 9.455036212378557e-05.\n",
            "Epoch 34/50\n",
            "230/230 [==============================] - ETA: 0s - loss: 0.5289 - accuracy: 0.8423\n",
            "Epoch 34: val_accuracy did not improve from 0.63483\n",
            "230/230 [==============================] - 32s 138ms/step - loss: 0.5289 - accuracy: 0.8423 - val_loss: 1.3654 - val_accuracy: 0.6292 - lr: 9.4550e-05\n",
            "\n",
            "Epoch 35: LearningRateScheduler setting learning rate to 9.422998149135443e-05.\n",
            "Epoch 35/50\n",
            "230/230 [==============================] - ETA: 0s - loss: 0.5064 - accuracy: 0.8498\n",
            "Epoch 35: val_accuracy did not improve from 0.63483\n",
            "230/230 [==============================] - 32s 138ms/step - loss: 0.5064 - accuracy: 0.8498 - val_loss: 1.3729 - val_accuracy: 0.6292 - lr: 9.4230e-05\n",
            "\n",
            "Epoch 36: LearningRateScheduler setting learning rate to 9.390132654389606e-05.\n",
            "Epoch 36/50\n",
            "230/230 [==============================] - ETA: 0s - loss: 0.4902 - accuracy: 0.8528\n",
            "Epoch 36: val_accuracy did not improve from 0.63483\n",
            "230/230 [==============================] - 32s 138ms/step - loss: 0.4902 - accuracy: 0.8528 - val_loss: 1.3647 - val_accuracy: 0.6292 - lr: 9.3901e-05\n",
            "\n",
            "Epoch 37: LearningRateScheduler setting learning rate to 9.35644940029564e-05.\n",
            "Epoch 37/50\n",
            "230/230 [==============================] - ETA: 0s - loss: 0.4755 - accuracy: 0.8606\n",
            "Epoch 37: val_accuracy improved from 0.63483 to 0.65169, saving model to vgg16_1.h5\n",
            "230/230 [==============================] - 32s 138ms/step - loss: 0.4755 - accuracy: 0.8606 - val_loss: 1.3639 - val_accuracy: 0.6517 - lr: 9.3564e-05\n",
            "\n",
            "Epoch 38: LearningRateScheduler setting learning rate to 9.321958055153534e-05.\n",
            "Epoch 38/50\n",
            "230/230 [==============================] - ETA: 0s - loss: 0.4703 - accuracy: 0.8592\n",
            "Epoch 38: val_accuracy did not improve from 0.65169\n",
            "230/230 [==============================] - 32s 138ms/step - loss: 0.4703 - accuracy: 0.8592 - val_loss: 1.3678 - val_accuracy: 0.6404 - lr: 9.3220e-05\n",
            "\n",
            "Epoch 39: LearningRateScheduler setting learning rate to 9.286669008251971e-05.\n",
            "Epoch 39/50\n",
            "230/230 [==============================] - ETA: 0s - loss: 0.4538 - accuracy: 0.8674\n",
            "Epoch 39: val_accuracy did not improve from 0.65169\n",
            "230/230 [==============================] - 32s 138ms/step - loss: 0.4538 - accuracy: 0.8674 - val_loss: 1.3660 - val_accuracy: 0.6461 - lr: 9.2867e-05\n",
            "\n",
            "Epoch 40: LearningRateScheduler setting learning rate to 9.25059191997089e-05.\n",
            "Epoch 40/50\n",
            "230/230 [==============================] - ETA: 0s - loss: 0.4569 - accuracy: 0.8592\n",
            "Epoch 40: val_accuracy improved from 0.65169 to 0.65730, saving model to vgg16_1.h5\n",
            "230/230 [==============================] - 32s 138ms/step - loss: 0.4569 - accuracy: 0.8592 - val_loss: 1.3735 - val_accuracy: 0.6573 - lr: 9.2506e-05\n",
            "\n",
            "Epoch 41: LearningRateScheduler setting learning rate to 9.213737171538456e-05.\n",
            "Epoch 41/50\n",
            "230/230 [==============================] - ETA: 0s - loss: 0.4374 - accuracy: 0.8683\n",
            "Epoch 41: val_accuracy did not improve from 0.65730\n",
            "230/230 [==============================] - 32s 138ms/step - loss: 0.4374 - accuracy: 0.8683 - val_loss: 1.3749 - val_accuracy: 0.6517 - lr: 9.2137e-05\n",
            "\n",
            "Epoch 42: LearningRateScheduler setting learning rate to 9.176115140047293e-05.\n",
            "Epoch 42/50\n",
            "230/230 [==============================] - ETA: 0s - loss: 0.4287 - accuracy: 0.8686\n",
            "Epoch 42: val_accuracy did not improve from 0.65730\n",
            "230/230 [==============================] - 32s 138ms/step - loss: 0.4287 - accuracy: 0.8686 - val_loss: 1.3781 - val_accuracy: 0.6517 - lr: 9.1761e-05\n",
            "\n",
            "Epoch 43: LearningRateScheduler setting learning rate to 9.13773692300919e-05.\n",
            "Epoch 43/50\n",
            "230/230 [==============================] - ETA: 0s - loss: 0.4292 - accuracy: 0.8669\n",
            "Epoch 43: val_accuracy did not improve from 0.65730\n",
            "230/230 [==============================] - 32s 138ms/step - loss: 0.4292 - accuracy: 0.8669 - val_loss: 1.3895 - val_accuracy: 0.6461 - lr: 9.1377e-05\n",
            "\n",
            "Epoch 44: LearningRateScheduler setting learning rate to 9.098612889035443e-05.\n",
            "Epoch 44/50\n",
            "230/230 [==============================] - ETA: 0s - loss: 0.4179 - accuracy: 0.8730\n",
            "Epoch 44: val_accuracy did not improve from 0.65730\n",
            "230/230 [==============================] - 32s 138ms/step - loss: 0.4179 - accuracy: 0.8730 - val_loss: 1.4112 - val_accuracy: 0.6404 - lr: 9.0986e-05\n",
            "\n",
            "Epoch 45: LearningRateScheduler setting learning rate to 9.058754127016436e-05.\n",
            "Epoch 45/50\n",
            "230/230 [==============================] - ETA: 0s - loss: 0.3983 - accuracy: 0.8777\n",
            "Epoch 45: val_accuracy did not improve from 0.65730\n",
            "230/230 [==============================] - 32s 138ms/step - loss: 0.3983 - accuracy: 0.8777 - val_loss: 1.4184 - val_accuracy: 0.6292 - lr: 9.0588e-05\n",
            "Epoch 45: early stopping\n"
          ]
        }
      ],
      "source": [
        "hist = model.fit(np.array(x_train1), np.array(y_train), validation_data=(x_val,y_val), epochs=50, \n",
        "                 callbacks = [checkpoint,early, keras.callbacks.LearningRateScheduler(lr_time_based_decay, verbose=1)], batch_size = 25)"
      ]
    },
    {
      "cell_type": "code",
      "execution_count": 27,
      "metadata": {
        "id": "ddt8VivqFwkD",
        "colab": {
          "base_uri": "https://localhost:8080/",
          "height": 319
        },
        "outputId": "1bc75933-eacf-4d63-9bb8-a45455f40134"
      },
      "outputs": [
        {
          "output_type": "stream",
          "name": "stdout",
          "text": [
            "180/180 [==============================] - 31s 159ms/step - loss: 0.2303 - accuracy: 0.9505\n",
            "6/6 [==============================] - 3s 509ms/step - loss: 0.5937 - accuracy: 0.8090\n",
            "Train: 0.951, Test: 0.809\n"
          ]
        },
        {
          "output_type": "display_data",
          "data": {
            "text/plain": [
              "<Figure size 432x288 with 1 Axes>"
            ],
            "image/png": "[encoded data removed]"
          },
          "metadata": {
            "needs_background": "light"
          }
        }
      ],
      "source": [
        "x_test = tf.stack(x_test)\n",
        "x_test1 = tf.keras.applications.vgg16.preprocess_input(x_test)\n",
        "y_test = tf.stack(y_test)\n",
        "\n",
        "# evaluate the model\n",
        "_, train_acc = model.evaluate(x_train1, y_train, verbose=1)\n",
        "_, test_acc = model.evaluate(x_test1, y_test, verbose=1)\n",
        "\n",
        "print('Train: %.3f, Test: %.3f' % (train_acc, test_acc))\n",
        "train_error = []\n",
        "test_error = []\n",
        "\n",
        "for accuracy in hist.history[\"accuracy\"]:\n",
        "    train_error.append(1-accuracy)\n",
        "for accuracy in hist.history[\"val_accuracy\"]:\n",
        "    test_error.append(1-accuracy)\n",
        "\n",
        "# plot training history\n",
        "pyplot.plot(train_error , label='train')\n",
        "pyplot.plot(test_error, label='test')\n",
        "pyplot.legend()\n",
        "pyplot.show()"
      ]
    },
    {
      "cell_type": "code",
      "source": [
        "y_pred=model.predict(x_test1) \n",
        "y_pred=np.argmax(y_pred, axis=1)\n",
        "y_test2=np.argmax(y_test, axis=1)\n",
        "\n",
        "print(confusion_matrix(y_test2, y_pred))\n",
        "print(classification_report(y_test2, y_pred))\n"
      ],
      "metadata": {
        "id": "xHrNGVUjJESZ",
        "colab": {
          "base_uri": "https://localhost:8080/"
        },
        "outputId": "d9ce1849-d1df-4e80-884e-0df7b8f03b41"
      },
      "execution_count": 29,
      "outputs": [
        {
          "output_type": "stream",
          "name": "stdout",
          "text": [
            "6/6 [==============================] - 1s 155ms/step\n",
            "[[5 0 0 1 0 0 0 0 0 0 0 0 0 0 0 0 1 0 0 0]\n",
            " [0 7 0 0 0 0 0 0 0 1 0 0 0 0 0 0 0 0 1 0]\n",
            " [0 0 7 0 0 1 0 0 0 0 1 0 0 0 0 0 0 0 0 0]\n",
            " [0 0 0 7 0 0 0 2 0 0 0 0 0 0 0 0 0 0 0 0]\n",
            " [0 0 0 0 7 0 1 0 0 0 0 0 0 0 0 0 0 0 0 1]\n",
            " [0 0 0 0 0 8 0 0 0 0 1 0 0 0 0 0 0 0 0 0]\n",
            " [0 2 0 0 0 0 7 0 0 0 0 0 0 0 0 0 0 0 0 0]\n",
            " [0 0 0 0 0 1 0 7 0 0 0 1 0 0 0 0 0 0 0 0]\n",
            " [0 0 0 0 0 0 0 0 8 0 0 0 0 0 0 0 0 0 1 0]\n",
            " [0 0 0 0 0 0 0 0 0 9 0 0 0 0 0 0 0 0 0 0]\n",
            " [0 0 0 1 0 0 0 0 0 0 7 0 0 0 0 1 0 0 0 0]\n",
            " [0 0 0 0 0 0 0 0 0 0 0 9 0 0 0 0 0 0 0 0]\n",
            " [0 0 0 0 0 2 0 0 0 0 0 0 5 0 0 0 0 1 1 0]\n",
            " [0 0 0 0 0 0 0 0 0 0 0 0 0 9 0 0 0 0 0 0]\n",
            " [0 0 0 0 0 0 0 0 0 0 0 0 0 0 8 0 0 1 0 0]\n",
            " [0 1 0 0 0 0 0 0 0 1 0 0 0 0 0 5 1 1 0 0]\n",
            " [0 0 0 0 0 0 0 0 0 0 0 0 0 0 0 0 9 0 0 0]\n",
            " [0 0 0 0 0 0 0 0 0 0 0 0 2 0 2 0 0 5 0 0]\n",
            " [0 0 0 0 0 0 0 0 0 0 0 0 1 0 0 0 0 0 7 1]\n",
            " [0 0 0 0 0 0 0 0 0 0 0 0 0 0 0 0 0 0 1 8]]\n",
            "              precision    recall  f1-score   support\n",
            "\n",
            "           0       1.00      0.71      0.83         7\n",
            "           1       0.70      0.78      0.74         9\n",
            "           2       1.00      0.78      0.88         9\n",
            "           3       0.78      0.78      0.78         9\n",
            "           4       1.00      0.78      0.88         9\n",
            "           5       0.67      0.89      0.76         9\n",
            "           6       0.88      0.78      0.82         9\n",
            "           7       0.78      0.78      0.78         9\n",
            "           8       1.00      0.89      0.94         9\n",
            "           9       0.82      1.00      0.90         9\n",
            "          10       0.78      0.78      0.78         9\n",
            "          11       0.90      1.00      0.95         9\n",
            "          12       0.62      0.56      0.59         9\n",
            "          13       1.00      1.00      1.00         9\n",
            "          14       0.80      0.89      0.84         9\n",
            "          15       0.83      0.56      0.67         9\n",
            "          16       0.82      1.00      0.90         9\n",
            "          17       0.62      0.56      0.59         9\n",
            "          18       0.64      0.78      0.70         9\n",
            "          19       0.80      0.89      0.84         9\n",
            "\n",
            "    accuracy                           0.81       178\n",
            "   macro avg       0.82      0.81      0.81       178\n",
            "weighted avg       0.82      0.81      0.81       178\n",
            "\n"
          ]
        }
      ]
    },
    {
      "cell_type": "code",
      "execution_count": 30,
      "metadata": {
        "id": "ASzt6JJ21hd6",
        "colab": {
          "base_uri": "https://localhost:8080/"
        },
        "outputId": "108e7ff2-4baf-4c0e-d7ef-c78a326e7ca2"
      },
      "outputs": [
        {
          "output_type": "stream",
          "name": "stdout",
          "text": [
            "Downloading data from https://storage.googleapis.com/keras-applications/efficientnetb0.h5\n",
            "21834768/21834768 [==============================] - 0s 0us/step\n",
            "Model: \"sequential_1\"\n",
            "_________________________________________________________________\n",
            " Layer (type)                Output Shape              Param #   \n",
            "=================================================================\n",
            " efficientnetb0 (Functional)  (None, 1000)             5330571   \n",
            "                                                                 \n",
            " flatten_1 (Flatten)         (None, 1000)              0         \n",
            "                                                                 \n",
            " batch_normalization_1 (Batc  (None, 1000)             4000      \n",
            " hNormalization)                                                 \n",
            "                                                                 \n",
            " dense_2 (Dense)             (None, 20)                20020     \n",
            "                                                                 \n",
            " dropout_1 (Dropout)         (None, 20)                0         \n",
            "                                                                 \n",
            " dense_3 (Dense)             (None, 20)                420       \n",
            "                                                                 \n",
            "=================================================================\n",
            "Total params: 5,355,011\n",
            "Trainable params: 22,440\n",
            "Non-trainable params: 5,332,571\n",
            "_________________________________________________________________\n"
          ]
        }
      ],
      "source": [
        "base_model = EfficientNetB0(weights='imagenet', drop_connect_rate=0.2)\n",
        "model = keras.Sequential()\n",
        "model.add(base_model)\n",
        "for layer in model.layers[:]:\n",
        "    layer.trainable = False\n",
        "\n",
        "# model.add(keras.layers.Dense(20, activation=('relu')))\n",
        "model.add(keras.layers.Flatten())\n",
        "model.add(keras.layers.BatchNormalization())\n",
        "model.add(keras.layers.Dense(20, activation=('relu')))\n",
        "model.add(keras.layers.Dropout(0.2))\n",
        "# model.add(keras.layers.Flatten())\n",
        "# model.add(keras.layers.Dense(20, activation=('relu')))\n",
        "model.add(keras.layers.Dense(20, activation=('softmax')))\n",
        "\n",
        "\n",
        "opt = Adam(learning_rate=0.0001)\n",
        "model.compile(optimizer=opt, loss=keras.losses.categorical_crossentropy, metrics=['accuracy'])\n",
        "model.build(input_shape=(224,224,3))\n",
        "model.summary()"
      ]
    },
    {
      "cell_type": "code",
      "source": [
        "x_train2 = tf.keras.applications.efficientnet.preprocess_input(x_train)\n",
        "initial_learning_rate = 0.01\n",
        "epochs = 100\n",
        "decay = initial_learning_rate / epochs\n",
        "def lr_time_based_decay(epoch, lr):\n",
        "    return lr * 1 / (1 + decay * epoch)\n",
        "\n",
        "checkpoint = ModelCheckpoint(\"best.h5\", monitor='val_accuracy', verbose=1, \n",
        "                             save_best_only=True, save_weights_only=False, mode='auto', period=1)\n",
        "early = EarlyStopping(monitor='val_loss', min_delta=0, patience=20, verbose=1, mode='auto')\n"
      ],
      "metadata": {
        "id": "OIcGmRJWFgLF",
        "colab": {
          "base_uri": "https://localhost:8080/"
        },
        "outputId": "65650fa6-2c5d-408b-9d28-b756cdfda2d4"
      },
      "execution_count": 31,
      "outputs": [
        {
          "output_type": "stream",
          "name": "stderr",
          "text": [
            "WARNING:tensorflow:`period` argument is deprecated. Please use `save_freq` to specify the frequency in number of batches seen.\n"
          ]
        }
      ]
    },
    {
      "cell_type": "code",
      "source": [
        "hist = model.fit(np.array(x_train2), np.array(y_train), validation_data=(x_val,y_val), epochs=50, \n",
        "                 callbacks = [checkpoint,early, keras.callbacks.LearningRateScheduler(lr_time_based_decay, verbose=1)], batch_size = 25)"
      ],
      "metadata": {
        "id": "swZjmp-AGrO0",
        "colab": {
          "base_uri": "https://localhost:8080/"
        },
        "outputId": "d3721b53-f27f-4d04-ef57-55c78f7d3ed9"
      },
      "execution_count": 32,
      "outputs": [
        {
          "output_type": "stream",
          "name": "stdout",
          "text": [
            "\n",
            "Epoch 1: LearningRateScheduler setting learning rate to 9.999999747378752e-05.\n",
            "Epoch 1/50\n",
            "230/230 [==============================] - ETA: 0s - loss: 2.9657 - accuracy: 0.0544\n",
            "Epoch 1: val_accuracy improved from -inf to 0.06180, saving model to best.h5\n",
            "230/230 [==============================] - 20s 62ms/step - loss: 2.9657 - accuracy: 0.0544 - val_loss: 2.9693 - val_accuracy: 0.0618 - lr: 1.0000e-04\n",
            "\n",
            "Epoch 2: LearningRateScheduler setting learning rate to 9.998999847394012e-05.\n",
            "Epoch 2/50\n",
            "230/230 [==============================] - ETA: 0s - loss: 2.8998 - accuracy: 0.0995\n",
            "Epoch 2: val_accuracy improved from 0.06180 to 0.14045, saving model to best.h5\n",
            "230/230 [==============================] - 13s 54ms/step - loss: 2.8998 - accuracy: 0.0995 - val_loss: 2.8772 - val_accuracy: 0.1404 - lr: 9.9990e-05\n",
            "\n",
            "Epoch 3: LearningRateScheduler setting learning rate to 9.997000630676428e-05.\n",
            "Epoch 3/50\n",
            "230/230 [==============================] - ETA: 0s - loss: 2.8094 - accuracy: 0.1690\n",
            "Epoch 3: val_accuracy improved from 0.14045 to 0.25843, saving model to best.h5\n",
            "230/230 [==============================] - 12s 53ms/step - loss: 2.8094 - accuracy: 0.1690 - val_loss: 2.6969 - val_accuracy: 0.2584 - lr: 9.9970e-05\n",
            "\n",
            "Epoch 4: LearningRateScheduler setting learning rate to 9.994002396931107e-05.\n",
            "Epoch 4/50\n",
            "230/230 [==============================] - ETA: 0s - loss: 2.6929 - accuracy: 0.2514\n",
            "Epoch 4: val_accuracy improved from 0.25843 to 0.37640, saving model to best.h5\n",
            "230/230 [==============================] - 12s 53ms/step - loss: 2.6929 - accuracy: 0.2514 - val_loss: 2.5158 - val_accuracy: 0.3764 - lr: 9.9940e-05\n",
            "\n",
            "Epoch 5: LearningRateScheduler setting learning rate to 9.990006173048161e-05.\n",
            "Epoch 5/50\n",
            "229/230 [============================>.] - ETA: 0s - loss: 2.5704 - accuracy: 0.2976\n",
            "Epoch 5: val_accuracy improved from 0.37640 to 0.47191, saving model to best.h5\n",
            "230/230 [==============================] - 12s 53ms/step - loss: 2.5705 - accuracy: 0.2976 - val_loss: 2.3419 - val_accuracy: 0.4719 - lr: 9.9900e-05\n",
            "\n",
            "Epoch 6: LearningRateScheduler setting learning rate to 9.985013712739302e-05.\n",
            "Epoch 6/50\n",
            "230/230 [==============================] - ETA: 0s - loss: 2.4460 - accuracy: 0.3455\n",
            "Epoch 6: val_accuracy improved from 0.47191 to 0.51685, saving model to best.h5\n",
            "230/230 [==============================] - 12s 53ms/step - loss: 2.4460 - accuracy: 0.3455 - val_loss: 2.1866 - val_accuracy: 0.5169 - lr: 9.9850e-05\n",
            "\n",
            "Epoch 7: LearningRateScheduler setting learning rate to 9.979026041855706e-05.\n",
            "Epoch 7/50\n",
            "229/230 [============================>.] - ETA: 0s - loss: 2.3258 - accuracy: 0.3825\n",
            "Epoch 7: val_accuracy improved from 0.51685 to 0.56742, saving model to best.h5\n",
            "230/230 [==============================] - 12s 53ms/step - loss: 2.3250 - accuracy: 0.3831 - val_loss: 2.0337 - val_accuracy: 0.5674 - lr: 9.9790e-05\n",
            "\n",
            "Epoch 8: LearningRateScheduler setting learning rate to 9.972045640012098e-05.\n",
            "Epoch 8/50\n",
            "229/230 [============================>.] - ETA: 0s - loss: 2.2262 - accuracy: 0.3963\n",
            "Epoch 8: val_accuracy improved from 0.56742 to 0.57865, saving model to best.h5\n",
            "230/230 [==============================] - 12s 53ms/step - loss: 2.2258 - accuracy: 0.3965 - val_loss: 1.9088 - val_accuracy: 0.5787 - lr: 9.9720e-05\n",
            "\n",
            "Epoch 9: LearningRateScheduler setting learning rate to 9.964074258818005e-05.\n",
            "Epoch 9/50\n",
            "230/230 [==============================] - ETA: 0s - loss: 2.1359 - accuracy: 0.4110\n",
            "Epoch 9: val_accuracy did not improve from 0.57865\n",
            "230/230 [==============================] - 12s 51ms/step - loss: 2.1359 - accuracy: 0.4110 - val_loss: 1.8035 - val_accuracy: 0.5787 - lr: 9.9641e-05\n",
            "\n",
            "Epoch 10: LearningRateScheduler setting learning rate to 9.955114376124448e-05.\n",
            "Epoch 10/50\n",
            "229/230 [============================>.] - ETA: 0s - loss: 2.0505 - accuracy: 0.4363\n",
            "Epoch 10: val_accuracy improved from 0.57865 to 0.58989, saving model to best.h5\n",
            "230/230 [==============================] - 12s 53ms/step - loss: 2.0499 - accuracy: 0.4362 - val_loss: 1.7193 - val_accuracy: 0.5899 - lr: 9.9551e-05\n",
            "\n",
            "Epoch 11: LearningRateScheduler setting learning rate to 9.945169195661194e-05.\n",
            "Epoch 11/50\n",
            "229/230 [============================>.] - ETA: 0s - loss: 1.9790 - accuracy: 0.4344\n",
            "Epoch 11: val_accuracy improved from 0.58989 to 0.61236, saving model to best.h5\n",
            "230/230 [==============================] - 12s 52ms/step - loss: 1.9802 - accuracy: 0.4336 - val_loss: 1.6506 - val_accuracy: 0.6124 - lr: 9.9452e-05\n",
            "\n",
            "Epoch 12: LearningRateScheduler setting learning rate to 9.934241193081636e-05.\n",
            "Epoch 12/50\n",
            "229/230 [============================>.] - ETA: 0s - loss: 1.9332 - accuracy: 0.4410\n",
            "Epoch 12: val_accuracy improved from 0.61236 to 0.62921, saving model to best.h5\n",
            "230/230 [==============================] - 12s 52ms/step - loss: 1.9333 - accuracy: 0.4411 - val_loss: 1.5921 - val_accuracy: 0.6292 - lr: 9.9342e-05\n",
            "\n",
            "Epoch 13: LearningRateScheduler setting learning rate to 9.922334296497487e-05.\n",
            "Epoch 13/50\n",
            "229/230 [============================>.] - ETA: 0s - loss: 1.8716 - accuracy: 0.4617\n",
            "Epoch 13: val_accuracy did not improve from 0.62921\n",
            "230/230 [==============================] - 12s 51ms/step - loss: 1.8721 - accuracy: 0.4613 - val_loss: 1.5507 - val_accuracy: 0.6292 - lr: 9.9223e-05\n",
            "\n",
            "Epoch 14: LearningRateScheduler setting learning rate to 9.909451705800132e-05.\n",
            "Epoch 14/50\n",
            "229/230 [============================>.] - ETA: 0s - loss: 1.8437 - accuracy: 0.4564\n",
            "Epoch 14: val_accuracy did not improve from 0.62921\n",
            "230/230 [==============================] - 12s 51ms/step - loss: 1.8434 - accuracy: 0.4566 - val_loss: 1.5032 - val_accuracy: 0.6236 - lr: 9.9095e-05\n",
            "\n",
            "Epoch 15: LearningRateScheduler setting learning rate to 9.895598072759898e-05.\n",
            "Epoch 15/50\n",
            "230/230 [==============================] - ETA: 0s - loss: 1.7952 - accuracy: 0.4711\n",
            "Epoch 15: val_accuracy did not improve from 0.62921\n",
            "230/230 [==============================] - 12s 51ms/step - loss: 1.7952 - accuracy: 0.4711 - val_loss: 1.4748 - val_accuracy: 0.6236 - lr: 9.8956e-05\n",
            "\n",
            "Epoch 16: LearningRateScheduler setting learning rate to 9.880776594277179e-05.\n",
            "Epoch 16/50\n",
            "229/230 [============================>.] - ETA: 0s - loss: 1.7510 - accuracy: 0.4683\n",
            "Epoch 16: val_accuracy did not improve from 0.62921\n",
            "230/230 [==============================] - 12s 52ms/step - loss: 1.7519 - accuracy: 0.4681 - val_loss: 1.4401 - val_accuracy: 0.6292 - lr: 9.8808e-05\n",
            "\n",
            "Epoch 17: LearningRateScheduler setting learning rate to 9.864992645276061e-05.\n",
            "Epoch 17/50\n",
            "229/230 [============================>.] - ETA: 0s - loss: 1.7401 - accuracy: 0.4631\n",
            "Epoch 17: val_accuracy did not improve from 0.62921\n",
            "230/230 [==============================] - 12s 51ms/step - loss: 1.7403 - accuracy: 0.4631 - val_loss: 1.4175 - val_accuracy: 0.6236 - lr: 9.8650e-05\n",
            "\n",
            "Epoch 18: LearningRateScheduler setting learning rate to 9.84825087217336e-05.\n",
            "Epoch 18/50\n",
            "229/230 [============================>.] - ETA: 0s - loss: 1.7131 - accuracy: 0.4741\n",
            "Epoch 18: val_accuracy improved from 0.62921 to 0.63483, saving model to best.h5\n",
            "230/230 [==============================] - 12s 52ms/step - loss: 1.7123 - accuracy: 0.4746 - val_loss: 1.3945 - val_accuracy: 0.6348 - lr: 9.8483e-05\n",
            "\n",
            "Epoch 19: LearningRateScheduler setting learning rate to 9.830555919530664e-05.\n",
            "Epoch 19/50\n",
            "229/230 [============================>.] - ETA: 0s - loss: 1.6882 - accuracy: 0.4877\n",
            "Epoch 19: val_accuracy did not improve from 0.63483\n",
            "230/230 [==============================] - 12s 52ms/step - loss: 1.6872 - accuracy: 0.4882 - val_loss: 1.3759 - val_accuracy: 0.6348 - lr: 9.8306e-05\n",
            "\n",
            "Epoch 20: LearningRateScheduler setting learning rate to 9.81191315627121e-05.\n",
            "Epoch 20/50\n",
            "229/230 [============================>.] - ETA: 0s - loss: 1.6613 - accuracy: 0.4950\n",
            "Epoch 20: val_accuracy did not improve from 0.63483\n",
            "230/230 [==============================] - 12s 52ms/step - loss: 1.6615 - accuracy: 0.4949 - val_loss: 1.3573 - val_accuracy: 0.6348 - lr: 9.8119e-05\n",
            "\n",
            "Epoch 21: LearningRateScheduler setting learning rate to 9.792328675318427e-05.\n",
            "Epoch 21/50\n",
            "229/230 [============================>.] - ETA: 0s - loss: 1.6442 - accuracy: 0.5039\n",
            "Epoch 21: val_accuracy did not improve from 0.63483\n",
            "230/230 [==============================] - 12s 52ms/step - loss: 1.6448 - accuracy: 0.5033 - val_loss: 1.3428 - val_accuracy: 0.6292 - lr: 9.7923e-05\n",
            "\n",
            "Epoch 22: LearningRateScheduler setting learning rate to 9.771807841092672e-05.\n",
            "Epoch 22/50\n",
            "229/230 [============================>.] - ETA: 0s - loss: 1.6239 - accuracy: 0.5001\n",
            "Epoch 22: val_accuracy did not improve from 0.63483\n",
            "230/230 [==============================] - 12s 52ms/step - loss: 1.6240 - accuracy: 0.5000 - val_loss: 1.3309 - val_accuracy: 0.6348 - lr: 9.7718e-05\n",
            "\n",
            "Epoch 23: LearningRateScheduler setting learning rate to 9.750356741871807e-05.\n",
            "Epoch 23/50\n",
            "229/230 [============================>.] - ETA: 0s - loss: 1.6110 - accuracy: 0.5015\n",
            "Epoch 23: val_accuracy did not improve from 0.63483\n",
            "230/230 [==============================] - 12s 52ms/step - loss: 1.6126 - accuracy: 0.5010 - val_loss: 1.3178 - val_accuracy: 0.6348 - lr: 9.7504e-05\n",
            "\n",
            "Epoch 24: LearningRateScheduler setting learning rate to 9.727982189430099e-05.\n",
            "Epoch 24/50\n",
            "230/230 [==============================] - ETA: 0s - loss: 1.5872 - accuracy: 0.5122\n",
            "Epoch 24: val_accuracy did not improve from 0.63483\n",
            "230/230 [==============================] - 12s 51ms/step - loss: 1.5872 - accuracy: 0.5122 - val_loss: 1.3110 - val_accuracy: 0.6292 - lr: 9.7280e-05\n",
            "\n",
            "Epoch 25: LearningRateScheduler setting learning rate to 9.704690992823636e-05.\n",
            "Epoch 25/50\n",
            "230/230 [==============================] - ETA: 0s - loss: 1.5791 - accuracy: 0.5171\n",
            "Epoch 25: val_accuracy did not improve from 0.63483\n",
            "230/230 [==============================] - 12s 52ms/step - loss: 1.5791 - accuracy: 0.5171 - val_loss: 1.3019 - val_accuracy: 0.6348 - lr: 9.7047e-05\n",
            "\n",
            "Epoch 26: LearningRateScheduler setting learning rate to 9.680489958391672e-05.\n",
            "Epoch 26/50\n",
            "229/230 [============================>.] - ETA: 0s - loss: 1.5537 - accuracy: 0.5245\n",
            "Epoch 26: val_accuracy improved from 0.63483 to 0.64045, saving model to best.h5\n",
            "230/230 [==============================] - 12s 53ms/step - loss: 1.5534 - accuracy: 0.5244 - val_loss: 1.2893 - val_accuracy: 0.6404 - lr: 9.6805e-05\n",
            "\n",
            "Epoch 27: LearningRateScheduler setting learning rate to 9.655385889757983e-05.\n",
            "Epoch 27/50\n",
            "229/230 [============================>.] - ETA: 0s - loss: 1.5480 - accuracy: 0.5219\n",
            "Epoch 27: val_accuracy did not improve from 0.64045\n",
            "230/230 [==============================] - 12s 52ms/step - loss: 1.5484 - accuracy: 0.5218 - val_loss: 1.2893 - val_accuracy: 0.6404 - lr: 9.6554e-05\n",
            "\n",
            "Epoch 28: LearningRateScheduler setting learning rate to 9.629386313468771e-05.\n",
            "Epoch 28/50\n",
            "229/230 [============================>.] - ETA: 0s - loss: 1.5367 - accuracy: 0.5235\n",
            "Epoch 28: val_accuracy improved from 0.64045 to 0.64607, saving model to best.h5\n",
            "230/230 [==============================] - 12s 53ms/step - loss: 1.5355 - accuracy: 0.5239 - val_loss: 1.2771 - val_accuracy: 0.6461 - lr: 9.6294e-05\n",
            "\n",
            "Epoch 29: LearningRateScheduler setting learning rate to 9.602499478632206e-05.\n",
            "Epoch 29/50\n",
            "229/230 [============================>.] - ETA: 0s - loss: 1.5106 - accuracy: 0.5326\n",
            "Epoch 29: val_accuracy did not improve from 0.64607\n",
            "230/230 [==============================] - 12s 52ms/step - loss: 1.5103 - accuracy: 0.5328 - val_loss: 1.2699 - val_accuracy: 0.6348 - lr: 9.6025e-05\n",
            "\n",
            "Epoch 30: LearningRateScheduler setting learning rate to 9.574732905574518e-05.\n",
            "Epoch 30/50\n",
            "229/230 [============================>.] - ETA: 0s - loss: 1.5059 - accuracy: 0.5289\n",
            "Epoch 30: val_accuracy did not improve from 0.64607\n",
            "230/230 [==============================] - 12s 52ms/step - loss: 1.5056 - accuracy: 0.5293 - val_loss: 1.2614 - val_accuracy: 0.6461 - lr: 9.5747e-05\n",
            "\n",
            "Epoch 31: LearningRateScheduler setting learning rate to 9.54609483704231e-05.\n",
            "Epoch 31/50\n",
            "230/230 [==============================] - ETA: 0s - loss: 1.5040 - accuracy: 0.5324\n",
            "Epoch 31: val_accuracy improved from 0.64607 to 0.65169, saving model to best.h5\n",
            "230/230 [==============================] - 12s 53ms/step - loss: 1.5040 - accuracy: 0.5324 - val_loss: 1.2595 - val_accuracy: 0.6517 - lr: 9.5461e-05\n",
            "\n",
            "Epoch 32: LearningRateScheduler setting learning rate to 9.516593512495273e-05.\n",
            "Epoch 32/50\n",
            "229/230 [============================>.] - ETA: 0s - loss: 1.4924 - accuracy: 0.5401\n",
            "Epoch 32: val_accuracy improved from 0.65169 to 0.65730, saving model to best.h5\n",
            "230/230 [==============================] - 12s 53ms/step - loss: 1.4924 - accuracy: 0.5397 - val_loss: 1.2533 - val_accuracy: 0.6573 - lr: 9.5166e-05\n",
            "\n",
            "Epoch 33: LearningRateScheduler setting learning rate to 9.486237893382716e-05.\n",
            "Epoch 33/50\n",
            "229/230 [============================>.] - ETA: 0s - loss: 1.4841 - accuracy: 0.5389\n",
            "Epoch 33: val_accuracy did not improve from 0.65730\n",
            "230/230 [==============================] - 12s 52ms/step - loss: 1.4840 - accuracy: 0.5389 - val_loss: 1.2499 - val_accuracy: 0.6573 - lr: 9.4862e-05\n",
            "\n",
            "Epoch 34: LearningRateScheduler setting learning rate to 9.455036212378557e-05.\n",
            "Epoch 34/50\n",
            "229/230 [============================>.] - ETA: 0s - loss: 1.4883 - accuracy: 0.5450\n",
            "Epoch 34: val_accuracy did not improve from 0.65730\n",
            "230/230 [==============================] - 12s 52ms/step - loss: 1.4877 - accuracy: 0.5453 - val_loss: 1.2498 - val_accuracy: 0.6517 - lr: 9.4550e-05\n",
            "\n",
            "Epoch 35: LearningRateScheduler setting learning rate to 9.422998149135443e-05.\n",
            "Epoch 35/50\n",
            "230/230 [==============================] - ETA: 0s - loss: 1.4534 - accuracy: 0.5432\n",
            "Epoch 35: val_accuracy did not improve from 0.65730\n",
            "230/230 [==============================] - 12s 52ms/step - loss: 1.4534 - accuracy: 0.5432 - val_loss: 1.2430 - val_accuracy: 0.6573 - lr: 9.4230e-05\n",
            "\n",
            "Epoch 36: LearningRateScheduler setting learning rate to 9.390132654389606e-05.\n",
            "Epoch 36/50\n",
            "229/230 [============================>.] - ETA: 0s - loss: 1.4397 - accuracy: 0.5527\n",
            "Epoch 36: val_accuracy did not improve from 0.65730\n",
            "230/230 [==============================] - 12s 51ms/step - loss: 1.4399 - accuracy: 0.5526 - val_loss: 1.2345 - val_accuracy: 0.6517 - lr: 9.3901e-05\n",
            "\n",
            "Epoch 37: LearningRateScheduler setting learning rate to 9.35644940029564e-05.\n",
            "Epoch 37/50\n",
            "230/230 [==============================] - ETA: 0s - loss: 1.4447 - accuracy: 0.5418\n",
            "Epoch 37: val_accuracy did not improve from 0.65730\n",
            "230/230 [==============================] - 12s 51ms/step - loss: 1.4447 - accuracy: 0.5418 - val_loss: 1.2326 - val_accuracy: 0.6461 - lr: 9.3564e-05\n",
            "\n",
            "Epoch 38: LearningRateScheduler setting learning rate to 9.321958055153534e-05.\n",
            "Epoch 38/50\n",
            "229/230 [============================>.] - ETA: 0s - loss: 1.4289 - accuracy: 0.5497\n",
            "Epoch 38: val_accuracy did not improve from 0.65730\n",
            "230/230 [==============================] - 12s 52ms/step - loss: 1.4304 - accuracy: 0.5490 - val_loss: 1.2301 - val_accuracy: 0.6517 - lr: 9.3220e-05\n",
            "\n",
            "Epoch 39: LearningRateScheduler setting learning rate to 9.286669008251971e-05.\n",
            "Epoch 39/50\n",
            "230/230 [==============================] - ETA: 0s - loss: 1.4273 - accuracy: 0.5533\n",
            "Epoch 39: val_accuracy did not improve from 0.65730\n",
            "230/230 [==============================] - 12s 52ms/step - loss: 1.4273 - accuracy: 0.5533 - val_loss: 1.2308 - val_accuracy: 0.6461 - lr: 9.2867e-05\n",
            "\n",
            "Epoch 40: LearningRateScheduler setting learning rate to 9.25059191997089e-05.\n",
            "Epoch 40/50\n",
            "229/230 [============================>.] - ETA: 0s - loss: 1.4337 - accuracy: 0.5513\n",
            "Epoch 40: val_accuracy did not improve from 0.65730\n",
            "230/230 [==============================] - 12s 51ms/step - loss: 1.4326 - accuracy: 0.5517 - val_loss: 1.2281 - val_accuracy: 0.6517 - lr: 9.2506e-05\n",
            "\n",
            "Epoch 41: LearningRateScheduler setting learning rate to 9.213737171538456e-05.\n",
            "Epoch 41/50\n",
            "229/230 [============================>.] - ETA: 0s - loss: 1.4291 - accuracy: 0.5499\n",
            "Epoch 41: val_accuracy did not improve from 0.65730\n",
            "230/230 [==============================] - 12s 52ms/step - loss: 1.4290 - accuracy: 0.5500 - val_loss: 1.2229 - val_accuracy: 0.6573 - lr: 9.2137e-05\n",
            "\n",
            "Epoch 42: LearningRateScheduler setting learning rate to 9.176115140047293e-05.\n",
            "Epoch 42/50\n",
            "229/230 [============================>.] - ETA: 0s - loss: 1.4209 - accuracy: 0.5527\n",
            "Epoch 42: val_accuracy did not improve from 0.65730\n",
            "230/230 [==============================] - 12s 51ms/step - loss: 1.4199 - accuracy: 0.5530 - val_loss: 1.2195 - val_accuracy: 0.6517 - lr: 9.1761e-05\n",
            "\n",
            "Epoch 43: LearningRateScheduler setting learning rate to 9.13773692300919e-05.\n",
            "Epoch 43/50\n",
            "230/230 [==============================] - ETA: 0s - loss: 1.3942 - accuracy: 0.5617\n",
            "Epoch 43: val_accuracy did not improve from 0.65730\n",
            "230/230 [==============================] - 12s 51ms/step - loss: 1.3942 - accuracy: 0.5617 - val_loss: 1.2144 - val_accuracy: 0.6573 - lr: 9.1377e-05\n",
            "\n",
            "Epoch 44: LearningRateScheduler setting learning rate to 9.098612889035443e-05.\n",
            "Epoch 44/50\n",
            "230/230 [==============================] - ETA: 0s - loss: 1.3965 - accuracy: 0.5613\n",
            "Epoch 44: val_accuracy did not improve from 0.65730\n",
            "230/230 [==============================] - 12s 52ms/step - loss: 1.3965 - accuracy: 0.5613 - val_loss: 1.2157 - val_accuracy: 0.6573 - lr: 9.0986e-05\n",
            "\n",
            "Epoch 45: LearningRateScheduler setting learning rate to 9.058754127016436e-05.\n",
            "Epoch 45/50\n",
            "229/230 [============================>.] - ETA: 0s - loss: 1.3805 - accuracy: 0.5712\n",
            "Epoch 45: val_accuracy did not improve from 0.65730\n",
            "230/230 [==============================] - 12s 52ms/step - loss: 1.3789 - accuracy: 0.5720 - val_loss: 1.2081 - val_accuracy: 0.6573 - lr: 9.0588e-05\n",
            "\n",
            "Epoch 46: LearningRateScheduler setting learning rate to 9.018172445763116e-05.\n",
            "Epoch 46/50\n",
            "229/230 [============================>.] - ETA: 0s - loss: 1.3674 - accuracy: 0.5612\n",
            "Epoch 46: val_accuracy improved from 0.65730 to 0.66292, saving model to best.h5\n",
            "230/230 [==============================] - 12s 53ms/step - loss: 1.3671 - accuracy: 0.5610 - val_loss: 1.2042 - val_accuracy: 0.6629 - lr: 9.0182e-05\n",
            "\n",
            "Epoch 47: LearningRateScheduler setting learning rate to 8.976878925120389e-05.\n",
            "Epoch 47/50\n",
            "229/230 [============================>.] - ETA: 0s - loss: 1.3913 - accuracy: 0.5616\n",
            "Epoch 47: val_accuracy did not improve from 0.66292\n",
            "230/230 [==============================] - 12s 52ms/step - loss: 1.3913 - accuracy: 0.5611 - val_loss: 1.2030 - val_accuracy: 0.6629 - lr: 8.9769e-05\n",
            "\n",
            "Epoch 48: LearningRateScheduler setting learning rate to 8.934884640521953e-05.\n",
            "Epoch 48/50\n",
            "230/230 [==============================] - ETA: 0s - loss: 1.3681 - accuracy: 0.5737\n",
            "Epoch 48: val_accuracy improved from 0.66292 to 0.66854, saving model to best.h5\n",
            "230/230 [==============================] - 12s 54ms/step - loss: 1.3681 - accuracy: 0.5737 - val_loss: 1.2003 - val_accuracy: 0.6685 - lr: 8.9349e-05\n",
            "\n",
            "Epoch 49: LearningRateScheduler setting learning rate to 8.892202111232468e-05.\n",
            "Epoch 49/50\n",
            "230/230 [==============================] - ETA: 0s - loss: 1.3575 - accuracy: 0.5707\n",
            "Epoch 49: val_accuracy did not improve from 0.66854\n",
            "230/230 [==============================] - 12s 51ms/step - loss: 1.3575 - accuracy: 0.5707 - val_loss: 1.1988 - val_accuracy: 0.6573 - lr: 8.8922e-05\n",
            "\n",
            "Epoch 50: LearningRateScheduler setting learning rate to 8.848843127485384e-05.\n",
            "Epoch 50/50\n",
            "229/230 [============================>.] - ETA: 0s - loss: 1.3483 - accuracy: 0.5680\n",
            "Epoch 50: val_accuracy did not improve from 0.66854\n",
            "230/230 [==============================] - 12s 52ms/step - loss: 1.3477 - accuracy: 0.5685 - val_loss: 1.1969 - val_accuracy: 0.6573 - lr: 8.8488e-05\n"
          ]
        }
      ]
    },
    {
      "cell_type": "code",
      "source": [
        "x_test2 = tf.keras.applications.efficientnet.preprocess_input(x_test)\n",
        "y_test2 = tf.stack(y_test)\n",
        "\n",
        "# evaluate the model\n",
        "_, train_acc = model.evaluate(np.array(x_train), np.array(y_train), verbose=1)\n",
        "_, test_acc = model.evaluate(np.array(x_test), np.array(y_test2), verbose=1)\n",
        "\n",
        "print('Train: %.3f, Test: %.3f' % (train_acc, test_acc))\n",
        "train_error = []\n",
        "test_error = []\n",
        "\n",
        "for accuracy in hist.history[\"accuracy\"]:\n",
        "    train_error.append(1-accuracy)\n",
        "for accuracy in hist.history[\"val_accuracy\"]:\n",
        "    test_error.append(1-accuracy)\n",
        "\n",
        "# plot training history\n",
        "pyplot.plot(train_error, label='train')\n",
        "pyplot.plot(test_error, label='test')\n",
        "pyplot.legend()\n",
        "pyplot.show()"
      ],
      "metadata": {
        "id": "99AfaoBpG4aS",
        "colab": {
          "base_uri": "https://localhost:8080/",
          "height": 319
        },
        "outputId": "7ea012db-7e42-4293-aa2a-40d280059830"
      },
      "execution_count": 47,
      "outputs": [
        {
          "output_type": "stream",
          "name": "stdout",
          "text": [
            "180/180 [==============================] - 11s 58ms/step - loss: 1.0589 - accuracy: 0.6854\n",
            "6/6 [==============================] - 1s 145ms/step - loss: 1.1969 - accuracy: 0.6573\n",
            "Train: 0.685, Test: 0.657\n"
          ]
        },
        {
          "output_type": "display_data",
          "data": {
            "text/plain": [
              "<Figure size 432x288 with 1 Axes>"
            ],
            "image/png": "[encoded data removed]"
          },
          "metadata": {
            "needs_background": "light"
          }
        }
      ]
    },
    {
      "cell_type": "code",
      "source": [
        "y_pred = model.predict(np.array(x_test)) \n",
        "y_pred=np.argmax(y_pred, axis=1)\n",
        "y_test=np.argmax(y_test, axis=1)\n",
        "\n",
        "print(confusion_matrix(y_test, y_pred))\n",
        "print(classification_report(y_test, y_pred))\n"
      ],
      "metadata": {
        "id": "3syR6SCvIdsW",
        "colab": {
          "base_uri": "https://localhost:8080/"
        },
        "outputId": "a4ac312f-5aaa-422c-e302-957cc59c45f8"
      },
      "execution_count": 52,
      "outputs": [
        {
          "output_type": "stream",
          "name": "stdout",
          "text": [
            "6/6 [==============================] - 2s 64ms/step\n",
            "[[4 0 0 0 1 0 0 0 0 0 0 0 0 0 0 0 1 1 0 0]\n",
            " [0 8 0 0 0 0 0 0 0 0 0 0 1 0 0 0 0 0 0 0]\n",
            " [0 0 7 0 0 0 0 0 0 0 0 0 0 0 0 0 0 0 0 2]\n",
            " [1 0 0 5 0 0 0 1 0 0 0 2 0 0 0 0 0 0 0 0]\n",
            " [0 0 0 0 2 2 0 0 0 0 1 0 0 0 0 1 0 0 3 0]\n",
            " [0 0 1 0 0 3 1 0 1 0 0 0 0 0 1 2 0 0 0 0]\n",
            " [0 1 0 0 0 0 7 0 0 0 1 0 0 0 0 0 0 0 0 0]\n",
            " [0 0 0 0 0 0 0 7 0 1 0 1 0 0 0 0 0 0 0 0]\n",
            " [0 0 0 0 0 0 0 0 8 0 0 0 0 0 0 0 0 0 1 0]\n",
            " [0 1 1 0 0 0 0 0 0 7 0 0 0 0 0 0 0 0 0 0]\n",
            " [0 1 0 0 1 0 0 0 0 0 7 0 0 0 0 0 0 0 0 0]\n",
            " [0 0 0 0 0 0 0 0 0 0 0 9 0 0 0 0 0 0 0 0]\n",
            " [0 0 0 0 0 0 0 0 0 0 0 0 6 0 1 0 0 0 2 0]\n",
            " [0 0 0 0 0 0 0 0 0 0 0 0 2 4 3 0 0 0 0 0]\n",
            " [0 0 0 0 1 0 0 0 0 0 0 0 0 0 7 0 0 1 0 0]\n",
            " [0 1 0 0 1 2 0 1 2 1 0 0 0 0 0 0 0 0 0 1]\n",
            " [0 0 0 0 0 1 0 0 0 0 0 0 0 0 0 0 8 0 0 0]\n",
            " [0 0 1 0 0 0 0 0 0 0 0 0 2 0 1 0 0 5 0 0]\n",
            " [0 0 1 0 0 0 0 0 1 0 0 0 0 0 0 0 0 1 5 1]\n",
            " [0 0 1 0 0 0 0 0 0 0 0 0 0 0 0 0 0 0 0 8]]\n",
            "              precision    recall  f1-score   support\n",
            "\n",
            "           0       0.80      0.57      0.67         7\n",
            "           1       0.67      0.89      0.76         9\n",
            "           2       0.58      0.78      0.67         9\n",
            "           3       1.00      0.56      0.71         9\n",
            "           4       0.33      0.22      0.27         9\n",
            "           5       0.38      0.33      0.35         9\n",
            "           6       0.88      0.78      0.82         9\n",
            "           7       0.78      0.78      0.78         9\n",
            "           8       0.67      0.89      0.76         9\n",
            "           9       0.78      0.78      0.78         9\n",
            "          10       0.78      0.78      0.78         9\n",
            "          11       0.75      1.00      0.86         9\n",
            "          12       0.55      0.67      0.60         9\n",
            "          13       1.00      0.44      0.62         9\n",
            "          14       0.54      0.78      0.64         9\n",
            "          15       0.00      0.00      0.00         9\n",
            "          16       0.89      0.89      0.89         9\n",
            "          17       0.62      0.56      0.59         9\n",
            "          18       0.45      0.56      0.50         9\n",
            "          19       0.67      0.89      0.76         9\n",
            "\n",
            "    accuracy                           0.66       178\n",
            "   macro avg       0.66      0.66      0.64       178\n",
            "weighted avg       0.65      0.66      0.64       178\n",
            "\n"
          ]
        }
      ]
    }
  ],
  "metadata": {
    "accelerator": "GPU",
    "colab": {
      "provenance": [],
      "machine_shape": "hm"
    },
    "gpuClass": "standard",
    "kernelspec": {
      "display_name": "Python 3",
      "name": "python3"
    },
    "language_info": {
      "name": "python"
    }
  },
  "nbformat": 4,
  "nbformat_minor": 0
}